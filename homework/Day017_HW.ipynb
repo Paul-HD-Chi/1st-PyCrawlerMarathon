{
 "cells": [
  {
   "cell_type": "markdown",
   "metadata": {},
   "source": [
    "# HTTP 動態網頁架構說明\n",
    "\n",
    "\n",
    "* 了解動態網頁的資料爬蟲策略\n",
    "* 知道非同步網頁載入機制（Ajax）\n",
    "* 學習兩種對應動態網頁爬蟲的的策略\n"
   ]
  },
  {
   "cell_type": "markdown",
   "metadata": {},
   "source": [
    "## 作業目標\n",
    "\n",
    "回答以下問題：\n",
    "\n",
    "1. 動態網頁跟靜態網頁的差別是什麼？原本靜態網頁的做法會產生什麼問題或是缺點？\n",
    "2. 還記得我們在 ETTODAY 靜態爬蟲實作練習中，有請大家完成一個題目「取出今天所有的發文」，但仔細看其實並沒有真的把當天所有的新聞都抓回來， 試著回答看看原因是什麼？及該如何檢查？\n"
   ]
  },
  {
   "cell_type": "markdown",
   "metadata": {},
   "source": [
    "### 1. 動態網頁跟靜態網頁的差別是什麼？原本靜態網頁的做法會產生什麼問題或是缺點？"
   ]
  },
  {
   "cell_type": "markdown",
   "metadata": {},
   "source": [
    "#1.1. 動態網頁跟靜態網頁的差別是什麼？  \n",
    "Ans.:  \n",
    "在網頁設計中，靜態網頁指的是單純用 HTML（Hyper Text Markup Language）格式所撰寫的網頁，這樣的網頁沒有後端資料庫的支援，HTML所編寫的內容就是網頁所要顯現的內容，網頁內容是固定的。  \n",
    "  \n",
    "而動態網頁是在標準的 HTML 架構下另外支援 JavaScript、PHP、ASP等高階程式語言，同時具有後端資料庫可隨用戶（client）的需求痛太傳遞不同的資料，網頁的內容是不固定的。  \n",
    "  \n",
    "#1.2. 原本靜態網頁的做法會產生什麼問題或是缺點？  \n",
    "Ans.:  \n",
    "靜態網頁的缺點是：  \n",
    "1. 內容固定、互動性差、內容更新維護難度高。  \n",
    "2. 缺乏自動化工具，修改大量靜態網頁內容是不切實際的。  \n",
    "3. 無法充分支持用戶端需求。"
   ]
  },
  {
   "cell_type": "markdown",
   "metadata": {},
   "source": [
    "### 2. 還記得我們在 ETTODAY 靜態爬蟲實作練習中，有請大家完成一個題目「取出今天所有的發文」，但仔細看其實並沒有真的把當天所有的新聞都抓回來， 試著回答看看原因是什麼？及該如何檢查？"
   ]
  },
  {
   "cell_type": "markdown",
   "metadata": {},
   "source": [
    "#2.1. 沒有真的把當天所有的新聞都抓回來， 試著回答看看原因是什麼？  \n",
    "Ans.: 原因是網頁只顯示靜態畫面，動態網頁在後台資料庫裡，等待 query。  \n",
    "  \n",
    "#2.2. 如何檢查？  \n",
    "Ans.: 透過關鍵字 AJAX 檢查。"
   ]
  },
  {
   "cell_type": "code",
   "execution_count": null,
   "metadata": {},
   "outputs": [],
   "source": []
  },
  {
   "cell_type": "code",
   "execution_count": null,
   "metadata": {},
   "outputs": [],
   "source": []
  }
 ],
 "metadata": {
  "kernelspec": {
   "display_name": "Python 3",
   "language": "python",
   "name": "python3"
  },
  "language_info": {
   "codemirror_mode": {
    "name": "ipython",
    "version": 3
   },
   "file_extension": ".py",
   "mimetype": "text/x-python",
   "name": "python",
   "nbconvert_exporter": "python",
   "pygments_lexer": "ipython3",
   "version": "3.7.3"
  }
 },
 "nbformat": 4,
 "nbformat_minor": 2
}
