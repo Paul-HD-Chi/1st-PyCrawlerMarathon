{
 "cells": [
  {
   "cell_type": "markdown",
   "metadata": {},
   "source": [
    "# Python 下載XML檔案與解析\n",
    "\n",
    "\n",
    "* 了解 xml 檔案格式與內容\n",
    "* 能夠利用套件存取 xml 格式的檔案\n"
   ]
  },
  {
   "cell_type": "markdown",
   "metadata": {},
   "source": [
    "## 作業目標\n",
    "\n",
    "* 比較一下範例檔案中的「File I/O」與「xmltodict」讀出來的內容有什麼差異\n",
    "\n",
    "* 根據範例檔案的結果：\n",
    "    1. 請問高雄市有多少地區有溫度資料？\n",
    "    2. 請取出每一個地區所記錄的第一個時間點跟溫度\n",
    "    3. 請取出第一個地區所記錄的每一個時間點跟溫度"
   ]
  },
  {
   "cell_type": "markdown",
   "metadata": {},
   "source": [
    "### 比較一下範例檔案中的「File I/O」與「xmltodict」讀出來的內容有什麼差異\n"
   ]
  },
  {
   "cell_type": "code",
   "execution_count": 1,
   "metadata": {},
   "outputs": [],
   "source": [
    "'''\n",
    "Your Code\n",
    "'''\n",
    "# Download cwb weather data\n",
    "import urllib.request\n",
    "import zipfile\n",
    "\n",
    "res = \"http://opendata.cwb.gov.tw/govdownload?dataid=F-D0047-093&authorizationkey=rdec-key-123-45678-011121314\"\n",
    "urllib.request.urlretrieve(res, \"./data/example.zip\")\n",
    "f = zipfile.ZipFile('./data/example.zip')\n",
    "f.extractall('./data')\n",
    "\n",
    "# read the file\n",
    "fh = open(\"./data/64_72hr_CH.xml\", \"r\", encoding = \"utf-8\")\n",
    "xml = fh.read()\n",
    "fh.close()\n",
    "\n",
    "# 解析檔案內容\n",
    "import xmltodict\n",
    "xml_dict = dict(xmltodict.parse(xml))\n"
   ]
  },
  {
   "cell_type": "markdown",
   "metadata": {},
   "source": [
    "### 根據範例檔案的結果：\n",
    "\n",
    "1. 請問高雄市有多少地區有溫度資料？\n",
    "2. 請取出每一個地區所記錄的第一個時間點跟溫度\n",
    "3. 請取出第一個地區所記錄的每一個時間點跟溫度"
   ]
  },
  {
   "cell_type": "code",
   "execution_count": 2,
   "metadata": {},
   "outputs": [
    {
     "name": "stdout",
     "output_type": "stream",
     "text": [
      "有溫度資料的地區： 38\n"
     ]
    }
   ],
   "source": [
    "# 1. 請問高雄市有多少地區有溫度資料？\n",
    "\n",
    "'''\n",
    "Your Code\n",
    "'''\n",
    "#location_kaohsiung = xml_dict['cwbopendata']['dataset']['locations']['locationName']\n",
    "location_kaohsiung = xml_dict['cwbopendata']['dataset']['locations']['location']\n",
    "print(\"有溫度資料的地區：\", len(location_kaohsiung))"
   ]
  },
  {
   "cell_type": "code",
   "execution_count": 3,
   "metadata": {},
   "outputs": [
    {
     "name": "stdout",
     "output_type": "stream",
     "text": [
      "鹽埕區，DateTime: 2019-11-28T12:00:00+08:00，Temperature: 27 攝氏度\n",
      "鼓山區，DateTime: 2019-11-28T12:00:00+08:00，Temperature: 27 攝氏度\n",
      "左營區，DateTime: 2019-11-28T12:00:00+08:00，Temperature: 26 攝氏度\n",
      "楠梓區，DateTime: 2019-11-28T12:00:00+08:00，Temperature: 27 攝氏度\n",
      "三民區，DateTime: 2019-11-28T12:00:00+08:00，Temperature: 26 攝氏度\n",
      "新興區，DateTime: 2019-11-28T12:00:00+08:00，Temperature: 27 攝氏度\n",
      "前金區，DateTime: 2019-11-28T12:00:00+08:00，Temperature: 27 攝氏度\n",
      "苓雅區，DateTime: 2019-11-28T12:00:00+08:00，Temperature: 27 攝氏度\n",
      "前鎮區，DateTime: 2019-11-28T12:00:00+08:00，Temperature: 28 攝氏度\n",
      "旗津區，DateTime: 2019-11-28T12:00:00+08:00，Temperature: 26 攝氏度\n",
      "小港區，DateTime: 2019-11-28T12:00:00+08:00，Temperature: 28 攝氏度\n",
      "鳳山區，DateTime: 2019-11-28T12:00:00+08:00，Temperature: 27 攝氏度\n",
      "林園區，DateTime: 2019-11-28T12:00:00+08:00，Temperature: 27 攝氏度\n",
      "大寮區，DateTime: 2019-11-28T12:00:00+08:00，Temperature: 28 攝氏度\n",
      "大樹區，DateTime: 2019-11-28T12:00:00+08:00，Temperature: 28 攝氏度\n",
      "大社區，DateTime: 2019-11-28T12:00:00+08:00，Temperature: 27 攝氏度\n",
      "仁武區，DateTime: 2019-11-28T12:00:00+08:00，Temperature: 27 攝氏度\n",
      "鳥松區，DateTime: 2019-11-28T12:00:00+08:00，Temperature: 28 攝氏度\n",
      "岡山區，DateTime: 2019-11-28T12:00:00+08:00，Temperature: 27 攝氏度\n",
      "橋頭區，DateTime: 2019-11-28T12:00:00+08:00，Temperature: 27 攝氏度\n",
      "燕巢區，DateTime: 2019-11-28T12:00:00+08:00，Temperature: 27 攝氏度\n",
      "田寮區，DateTime: 2019-11-28T12:00:00+08:00，Temperature: 27 攝氏度\n",
      "阿蓮區，DateTime: 2019-11-28T12:00:00+08:00，Temperature: 27 攝氏度\n",
      "路竹區，DateTime: 2019-11-28T12:00:00+08:00，Temperature: 27 攝氏度\n",
      "湖內區，DateTime: 2019-11-28T12:00:00+08:00，Temperature: 26 攝氏度\n",
      "茄萣區，DateTime: 2019-11-28T12:00:00+08:00，Temperature: 25 攝氏度\n",
      "永安區，DateTime: 2019-11-28T12:00:00+08:00，Temperature: 26 攝氏度\n",
      "彌陀區，DateTime: 2019-11-28T12:00:00+08:00，Temperature: 26 攝氏度\n",
      "梓官區，DateTime: 2019-11-28T12:00:00+08:00，Temperature: 26 攝氏度\n",
      "旗山區，DateTime: 2019-11-28T12:00:00+08:00，Temperature: 27 攝氏度\n",
      "美濃區，DateTime: 2019-11-28T12:00:00+08:00，Temperature: 28 攝氏度\n",
      "六龜區，DateTime: 2019-11-28T12:00:00+08:00，Temperature: 27 攝氏度\n",
      "甲仙區，DateTime: 2019-11-28T12:00:00+08:00，Temperature: 27 攝氏度\n",
      "杉林區，DateTime: 2019-11-28T12:00:00+08:00，Temperature: 30 攝氏度\n",
      "內門區，DateTime: 2019-11-28T12:00:00+08:00，Temperature: 28 攝氏度\n",
      "茂林區，DateTime: 2019-11-28T12:00:00+08:00，Temperature: 27 攝氏度\n",
      "桃源區，DateTime: 2019-11-28T12:00:00+08:00，Temperature: 25 攝氏度\n",
      "那瑪夏區，DateTime: 2019-11-28T12:00:00+08:00，Temperature: 24 攝氏度\n"
     ]
    }
   ],
   "source": [
    "# 2. 請取出每一個地區所記錄的第一個時間點跟溫度\n",
    "\n",
    "'''\n",
    "Your Code\n",
    "'''\n",
    "for i in range(len(location_kaohsiung)):\n",
    "    #print(location_kaohsiung[i]['weatherElement'][0]['time'][0])\n",
    "    #print(location_kaohsiung[i]['weatherElement'][0]['time'][0]['dataTime'])\n",
    "    #print(location_kaohsiung[i]['weatherElement'][0]['time'][0]['elementValue']['value'])\n",
    "    #print(location_kaohsiung[i]['weatherElement'][0]['time'][0]['elementValue']['measures'])\n",
    "    location = location_kaohsiung[i]['locationName']\n",
    "    datetime = location_kaohsiung[i]['weatherElement'][0]['time'][0]['dataTime']\n",
    "    temperature = location_kaohsiung[i]['weatherElement'][0]['time'][0]['elementValue']['value']\n",
    "    measures = location_kaohsiung[i]['weatherElement'][0]['time'][0]['elementValue']['measures']\n",
    "    print(f\"{location}，DateTime: {datetime}，Temperature: {temperature} {measures}\")"
   ]
  },
  {
   "cell_type": "code",
   "execution_count": 4,
   "metadata": {},
   "outputs": [
    {
     "name": "stdout",
     "output_type": "stream",
     "text": [
      "鹽埕區\n",
      "number of records: 24\n",
      "DateTime: 2019-11-28T12:00:00+08:00,Temperature: 27 攝氏度\n",
      "DateTime: 2019-11-28T12:00:00+08:00,Temperature: 27 攝氏度\n",
      "DateTime: 2019-11-28T12:00:00+08:00,Temperature: 27 攝氏度\n",
      "DateTime: 2019-11-28T12:00:00+08:00,Temperature: 27 攝氏度\n",
      "DateTime: 2019-11-28T12:00:00+08:00,Temperature: 27 攝氏度\n",
      "DateTime: 2019-11-28T12:00:00+08:00,Temperature: 27 攝氏度\n",
      "DateTime: 2019-11-28T12:00:00+08:00,Temperature: 27 攝氏度\n",
      "DateTime: 2019-11-28T12:00:00+08:00,Temperature: 27 攝氏度\n",
      "DateTime: 2019-11-28T12:00:00+08:00,Temperature: 27 攝氏度\n",
      "DateTime: 2019-11-28T12:00:00+08:00,Temperature: 27 攝氏度\n",
      "DateTime: 2019-11-28T12:00:00+08:00,Temperature: 27 攝氏度\n",
      "DateTime: 2019-11-28T12:00:00+08:00,Temperature: 27 攝氏度\n",
      "DateTime: 2019-11-28T12:00:00+08:00,Temperature: 27 攝氏度\n",
      "DateTime: 2019-11-28T12:00:00+08:00,Temperature: 27 攝氏度\n",
      "DateTime: 2019-11-28T12:00:00+08:00,Temperature: 27 攝氏度\n",
      "DateTime: 2019-11-28T12:00:00+08:00,Temperature: 27 攝氏度\n",
      "DateTime: 2019-11-28T12:00:00+08:00,Temperature: 27 攝氏度\n",
      "DateTime: 2019-11-28T12:00:00+08:00,Temperature: 27 攝氏度\n",
      "DateTime: 2019-11-28T12:00:00+08:00,Temperature: 27 攝氏度\n",
      "DateTime: 2019-11-28T12:00:00+08:00,Temperature: 27 攝氏度\n",
      "DateTime: 2019-11-28T12:00:00+08:00,Temperature: 27 攝氏度\n",
      "DateTime: 2019-11-28T12:00:00+08:00,Temperature: 27 攝氏度\n",
      "DateTime: 2019-11-28T12:00:00+08:00,Temperature: 27 攝氏度\n",
      "DateTime: 2019-11-28T12:00:00+08:00,Temperature: 27 攝氏度\n"
     ]
    }
   ],
   "source": [
    "# 3. 請取出第一個地區所記錄的每一個時間點跟溫度\n",
    "\n",
    "'''\n",
    "Your Code\n",
    "'''\n",
    "print(location_kaohsiung[0]['locationName'])\n",
    "print(f\"number of records: {len(location_kaohsiung[0]['weatherElement'][0]['time'])}\")\n",
    "#print(location_kaohsiung[0]['weatherElement'][0]['time'])\n",
    "\n",
    "for i in range(len(location_kaohsiung[0]['weatherElement'][0]['time'])):\n",
    "    datetime = location_kaohsiung[0]['weatherElement'][0]['time'][0]['dataTime']\n",
    "    temperature = location_kaohsiung[0]['weatherElement'][0]['time'][0]['elementValue']['value']\n",
    "    measures = location_kaohsiung[0]['weatherElement'][0]['time'][0]['elementValue']['measures']\n",
    "    print(f\"DateTime: {datetime},Temperature: {temperature} {measures}\")\n"
   ]
  },
  {
   "cell_type": "code",
   "execution_count": null,
   "metadata": {},
   "outputs": [],
   "source": []
  }
 ],
 "metadata": {
  "kernelspec": {
   "display_name": "Python 3",
   "language": "python",
   "name": "python3"
  },
  "language_info": {
   "codemirror_mode": {
    "name": "ipython",
    "version": 3
   },
   "file_extension": ".py",
   "mimetype": "text/x-python",
   "name": "python",
   "nbconvert_exporter": "python",
   "pygments_lexer": "ipython3",
   "version": "3.7.3"
  }
 },
 "nbformat": 4,
 "nbformat_minor": 2
}
