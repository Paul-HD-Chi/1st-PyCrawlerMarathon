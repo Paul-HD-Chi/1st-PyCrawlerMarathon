{
 "cells": [
  {
   "cell_type": "markdown",
   "metadata": {},
   "source": [
    "# 其他工具：Grab、PyQuery\n",
    "\n",
    "\n",
    "* 利用 Grab 套件的存取 HTML 資源\n",
    "* 利用 PyQuery 套件的解析 HTML 格式\n"
   ]
  },
  {
   "cell_type": "markdown",
   "metadata": {},
   "source": [
    "## 作業目標\n",
    "\n",
    "將之前用 requests + beatifulsoup 實作的方式，改寫成 grab + pyquery，並且比較有哪些地方不同。\n",
    "\n",
    "\n",
    "\n"
   ]
  },
  {
   "cell_type": "markdown",
   "metadata": {},
   "source": [
    "## requests + BeautifulSoup\n"
   ]
  },
  {
   "cell_type": "code",
   "execution_count": 1,
   "metadata": {},
   "outputs": [
    {
     "name": "stdout",
     "output_type": "stream",
     "text": [
      "<!DOCTYPE html><html lang=\"zh-Hant-TW\"><head prefix=\"og: http://ogp.me/ns#\" itemscope=\"\" itemType=\"https://schema.org/WebSite\"><title data-react-helmet=\"true\">Dcard</title><meta data-react-helmet=\"true\" property=\"og:image\" content=\"https://www.dcard.tw/build/landing-c9e7b8fb.png\"/><meta data-react-helmet=\"true\" property=\"og:image:secure_url\" content=\"https://www.dcard.tw/build/landing-c9e7b8fb.png\"/><meta data-react-helmet=\"true\" charSet=\"utf-8\"/><meta data-react-helmet=\"true\" http-equiv=\"X-UA-Compatible\" content=\"IE=edge\"/><meta data-react-helmet=\"true\" name=\"application-name\" content=\"Dcard\"/><meta data-react-helmet=\"true\" name=\"apple-itunes-app\" content=\"app-id=951353454\"/><meta data-react-helmet=\"true\" name=\"theme-color\" content=\"#006aa6\"/><meta data-react-helmet=\"true\" name=\"mobile-web-app-capable\" content=\"yes\"/><meta data-react-helmet=\"true\" name=\"apple-mobile-web-app-capable\" content=\"yes\"/><meta data-react-helmet=\"true\" property=\"fb:app_id\" content=\"211628828926493\"/><meta data-react-helmet=\"true\" property=\"fb:pages\" content=\"178875832200695,577748865730563,1333515469994506,619122564952487,804004803032067,178024805867764\"/><meta data-react-helmet=\"true\" property=\"al:ios:app_store_id\" content=\"951353454\"/><meta data-react-helmet=\"true\" property=\"al:ios:app_name\" content=\"Dcard\"/><meta data-react-helmet=\"true\" property=\"al:android:package\" content=\"com.sparkslab.dcardreader\"/><meta data-react-helmet=\"true\" property=\"al:android:app_name\" content=\"Dcard\"/><meta data-react-helmet=\"true\" property=\"og:type\" content=\"website\"/><meta data-react-helmet=\"true\" property=\"og:site_name\" content=\"Dcard\"/><meta data-react-helmet=\"true\" property=\"og:title\" content=\"Dcard\"/><meta data-react-helmet=\"true\" property=\"og:url\" content=\"https://www.dcard.tw/f\"/><meta data-react-helmet=\"true\" name=\"description\" content=\"廣受年輕人喜愛的  Dcard  是台灣最大的匿名交流平台，舉凡時事話題、感情心情、吃喝玩樂、學習工作等，都有卡友陪你聊！\"/><meta data-react-helmet=\"true\" property=\"og:description\" content=\"廣受年輕人喜愛的  Dcard  是台灣最大的匿名交流平台，舉凡時事話題、感情心情、吃喝玩樂、學習工作等，都有卡友陪你聊！\"/><meta data-react-helmet=\"true\" property=\"al:ios:url\" content=\"dcard://category/all/全部/hot\"/><meta data-react-helmet=\"true\" property=\"al:android:url\" content=\"dcard://category/all/全部/hot\"/><link data-react-helmet=\"true\" rel=\"icon\" sizes=\"32x32\" type=\"image/png\" href=\"/build/favicon_32-44259074.png\"/><link data-react-helmet=\"true\" rel=\"icon\" sizes=\"72x72\" type=\"image/png\" href=\"/build/favicon_72-45b1e0ba.png\"/><link data-react-helmet=\"true\" rel=\"icon\" sizes=\"512x512\" type=\"image/png\" href=\"/build/favicon_512-8aee0703.png\"/><link data-react-helmet=\"true\" rel=\"apple-touch-icon-precomposed\" href=\"/build/favicon_144-79557003.png\"/><link data-react-helmet=\"true\" rel=\"apple-touch-icon-precomposed\" href=\"/build/favicon_114-4a463b43.png\"/><link data-react-helmet=\"true\" rel=\"apple-touch-icon-precomposed\" href=\"/build/favicon_72-45b1e0ba.png\"/><link data-react-helmet=\"true\" rel=\"apple-touch-icon-precomposed\" href=\"/build/favicon_57-835f1693.png\"/><link data-react-helm \n",
      "\n",
      "data type of soup: <class 'bs4.BeautifulSoup'>\n",
      "title: <title data-react-helmet=\"true\">Dcard</title>\n",
      "title name: title\n",
      "title text: Dcard\n",
      "\n"
     ]
    }
   ],
   "source": [
    "'''\n",
    "Your Code\n",
    "'''\n",
    "import requests\n",
    "from bs4 import BeautifulSoup\n",
    "\n",
    "url = 'https://www.dcard.tw/f'\n",
    "\n",
    "r = requests.get(url)   # response of HTTP request\n",
    "response = r.text       # response message\n",
    "r.encoding = 'utf-8'\n",
    "print(r.text[0:3000], '\\n')\n",
    "\n",
    "soup = BeautifulSoup(response, \"html5lib\")\n",
    "print(f\"data type of soup: {type(soup)}\")\n",
    "print(f\"title: {soup.title}\")\n",
    "print(f\"title name: {soup.title.name}\")\n",
    "print(f\"title text: {soup.title.text}\\n\")\n"
   ]
  },
  {
   "cell_type": "markdown",
   "metadata": {},
   "source": [
    "## Grab + PyQuery"
   ]
  },
  {
   "cell_type": "code",
   "execution_count": 2,
   "metadata": {
    "scrolled": false
   },
   "outputs": [
    {
     "name": "stdout",
     "output_type": "stream",
     "text": [
      "resp_body:\n",
      "b'<!DOCTYPE html><html lang=\"zh-Hant-TW\"><head prefix=\"og: http://ogp.me/ns#\" itemscope=\"\" itemType=\"https://schema.org/WebSite\"><title data-react-helmet=\"true\">Dcard</title><meta data-react-helmet=\"true\" property=\"og:image\" content=\"https://www.dcard.tw/build/landing-c9e7b8fb.png\"/><meta data-react-helmet=\"true\" property=\"og:image:secure_url\" content=\"https://www.dcard.tw/build/landing-c9e7b8fb.png\"/><meta data-react-helmet=\"true\" charSet=\"utf-8\"/><meta data-react-helmet=\"true\" http-equiv=\"X-UA-Compatible\" content=\"IE=edge\"/><meta data-react-helmet=\"true\" name=\"application-name\" content=\"Dcard\"/><meta data-react-helmet=\"true\" name=\"apple-itunes-app\" content=\"app-id=951353454\"/><meta data-react-helmet=\"true\" name=\"theme-color\" content=\"#006aa6\"/><meta data-react-helmet=\"true\" name=\"mobile-web-app-capable\" content=\"yes\"/><meta data-react-helmet=\"true\" name=\"apple-mobile-web-app-capable\" content=\"yes\"/><meta data-react-helmet=\"true\" property=\"fb:app_id\" content=\"211628828926493\"/><meta data-react-helmet=\"true\" property=\"fb:pages\" content=\"178875832200695,577748865730563,1333515469994506,619122564952487,804004803032067,178024805867764\"/><meta data-react-helmet=\"true\" property=\"al:ios:app_store_id\" content=\"951353454\"/><meta data-react-helmet=\"true\" property=\"al:ios:app_name\" content=\"Dcard\"/><meta data-react-helmet=\"true\" property=\"al:android:package\" content=\"com.sparkslab.dcardreader\"/><meta data-react-helmet=\"true\" property=\"al:android:app_name\" content=\"Dcard\"/><meta data-react-helmet=\"true\" property=\"og:type\" content=\"website\"/><meta data-react-helmet=\"true\" property=\"og:site_name\" content=\"Dcard\"/><meta data-react-helmet=\"true\" property=\"og:title\" content=\"Dcard\"/><meta data-react-helmet=\"true\" property=\"og:url\" content=\"https://www.dcard.tw/f\"/><meta data-react-helmet=\"true\" name=\"description\" content=\"\\xe5\\xbb\\xa3\\xe5\\x8f\\x97\\xe5\\xb9\\xb4\\xe8\\xbc\\x95\\xe4\\xba\\xba\\xe5\\x96\\x9c\\xe6\\x84\\x9b\\xe7\\x9a\\x84  Dcard  \\xe6\\x98\\xaf\\xe5\\x8f\\xb0\\xe7\\x81\\xa3\\xe6\\x9c\\x80\\xe5\\xa4\\xa7\\xe7\\x9a\\x84\\xe5\\x8c\\xbf\\xe5\\x90\\x8d\\xe4\\xba\\xa4\\xe6\\xb5\\x81\\xe5\\xb9\\xb3\\xe5\\x8f\\xb0\\xef\\xbc\\x8c\\xe8\\x88\\x89\\xe5\\x87\\xa1\\xe6\\x99\\x82\\xe4\\xba\\x8b\\xe8\\xa9\\xb1\\xe9\\xa1\\x8c\\xe3\\x80\\x81\\xe6\\x84\\x9f\\xe6\\x83\\x85\\xe5\\xbf\\x83\\xe6\\x83\\x85\\xe3\\x80\\x81\\xe5\\x90\\x83\\xe5\\x96\\x9d\\xe7\\x8e\\xa9\\xe6\\xa8\\x82\\xe3\\x80\\x81\\xe5\\xad\\xb8\\xe7\\xbf\\x92\\xe5\\xb7\\xa5\\xe4\\xbd\\x9c\\xe7\\xad\\x89\\xef\\xbc\\x8c\\xe9\\x83\\xbd\\xe6\\x9c\\x89\\xe5\\x8d\\xa1\\xe5\\x8f\\x8b\\xe9\\x99\\xaa\\xe4\\xbd\\xa0\\xe8\\x81\\x8a\\xef\\xbc\\x81\"/><meta data-react-helmet=\"true\" property=\"og:description\" content=\"\\xe5\\xbb\\xa3\\xe5\\x8f\\x97\\xe5\\xb9\\xb4\\xe8\\xbc\\x95\\xe4\\xba\\xba\\xe5\\x96\\x9c\\xe6\\x84\\x9b\\xe7\\x9a\\x84  Dcard  \\xe6\\x98\\xaf\\xe5\\x8f\\xb0\\xe7\\x81\\xa3\\xe6\\x9c\\x80\\xe5\\xa4\\xa7\\xe7\\x9a\\x84\\xe5\\x8c\\xbf\\xe5\\x90\\x8d\\xe4\\xba\\xa4\\xe6\\xb5\\x81\\xe5\\xb9\\xb3\\xe5\\x8f\\xb0\\xef\\xbc\\x8c\\xe8\\x88\\x89\\xe5\\x87\\xa1\\xe6\\x99\\x82\\xe4\\xba\\x8b\\xe8\\xa9\\xb1\\xe9\\xa1\\x8c\\xe3\\x80\\x81\\xe6\\x84\\x9f\\xe6\\x83\\x85\\xe5\\xbf\\x83\\xe6\\x83\\x85\\xe3\\x80\\x81\\xe5\\x90\\x83\\xe5\\x96\\x9d\\xe7\\x8e\\xa9\\xe6\\xa8\\x82\\xe3\\x80\\x81\\xe5\\xad\\xb8\\xe7\\xbf\\x92\\xe5\\xb7\\xa5\\xe4\\xbd\\x9c\\xe7\\xad\\x89\\xef\\xbc\\x8c\\xe9\\x83\\xbd\\xe6\\x9c\\x89\\xe5\\x8d\\xa1\\xe5\\x8f\\x8b\\xe9\\x99\\xaa\\xe4\\xbd\\xa0\\xe8\\x81\\x8a\\xef\\xbc\\x81\"/><meta data-react-helmet=\"true\" property=\"al:ios:url\" content=\"dcard://category/all/\\xe5\\x85\\xa8\\xe9\\x83\\xa8/hot\"/><meta data-react-helmet=\"true\" property=\"al:android:url\" content=\"dcard://category/all/\\xe5\\x85\\xa8\\xe9\\x83\\xa8/hot\"/><link data-react-helmet=\"true\" rel=\"icon\" sizes=\"32x32\" type=\"image/png\" href=\"/build/favicon_32-44259074.png\"/><link data-react-helmet=\"true\" rel=\"icon\" sizes=\"72x72\" type=\"image/png\" href=\"/build/favicon_72-45b1e0ba.png\"/><link data-react-helmet=\"true\" rel=\"icon\" sizes=\"512x512\" type=\"image/png\" href=\"/build/favicon_512-8aee0703.png\"/><link data-react-helmet=\"true\" rel=\"apple-touch-icon-precomposed\" href=\"/build/favicon_144-79557003.png\"/><link data-react-helmet=\"true\" rel=\"apple-touch-icon-precomposed\" href=\"/build/favicon_114-4a463b43.png\"/><link data-reac'\n",
      "\n",
      "data type of doc: <class 'pyquery.pyquery.PyQuery'>\n",
      "title: <title data-react-helmet=\"true\">Dcard</title>\n",
      "title text: <bound method PyQuery.text of [<title>]>\n"
     ]
    }
   ],
   "source": [
    "'''\n",
    "Your Code\n",
    "'''\n",
    "from grab import Grab\n",
    "from pyquery import PyQuery as pq\n",
    "\n",
    "g = Grab()\n",
    "resp = g.go(url)\n",
    "print(f\"resp_body:\\n{resp.body[:3000]}\\n\")\n",
    "\n",
    "doc = pq(resp.body)\n",
    "\n",
    "print(f\"data type of doc: {type(doc)}\")\n",
    "print(f\"title: {doc('title')}\")\n",
    "print(f\"title text: {doc('title').text}\")\n",
    "#print(type(title), title.text())"
   ]
  },
  {
   "cell_type": "markdown",
   "metadata": {},
   "source": [
    "Q: requests + beatifulsoup 實作的方式 與 grab + pyquery 比較有哪些地方不同？  \n",
    "Ans.:  \n",
    "1. requests 抓下來的資料格式是 HTML，而 grab 抓下來的資料格式是 binary 字串。  \n",
    "2. BeautifulSoup 直接處理的是 HTML 資料，而 pyquery 是以類似 jquery 的方式存取資料。  \n"
   ]
  }
 ],
 "metadata": {
  "kernelspec": {
   "display_name": "Python 3",
   "language": "python",
   "name": "python3"
  },
  "language_info": {
   "codemirror_mode": {
    "name": "ipython",
    "version": 3
   },
   "file_extension": ".py",
   "mimetype": "text/x-python",
   "name": "python",
   "nbconvert_exporter": "python",
   "pygments_lexer": "ipython3",
   "version": "3.7.3"
  }
 },
 "nbformat": 4,
 "nbformat_minor": 2
}
